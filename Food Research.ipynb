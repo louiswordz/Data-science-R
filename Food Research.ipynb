{
 "cells": [
  {
   "cell_type": "markdown",
   "id": "40ba57d1",
   "metadata": {},
   "source": [
    "## Restaurant-And-Food-Inspections\n",
    "\n",
    "<p>The Food we eat plays a big factor to deciding how healthy we live ever after. This analysis is geared towards restaurants and how higienic their services are. Using data analysis method provided in R we will be drawing insights to see how far the data collected on restaurants at random locations will help predict how healthy the food we eat are..</p>\n",
    "\n",
    "<p>In this project we will analyze the spartial overview of food access indicators </p>\n",
    "\n",
    "<img src = \"https://t3.ftcdn.net/jpg/02/27/62/24/360_F_227622470_sJ3yEaz44RK7UrWNaGdSn7azgeRu9UDs.jpg\" alt=\"Food\"/>\n",
    "\n",
    "### Data Columns\n",
    "<ol>\n",
    "    <li><b>business_id: Unique identifier for the business. For many cities, this may be the license number.</b></li>\n",
    "        <li><b>business_name :Common name of the business.</b></li>\n",
    "        <li><b>business_address: Street address of the business.Example: 706 Mission St.</b></li>\n",
    "        <li><b>business_city: City of the business. This field must be included if the file contains businesses from multiple cities.\n",
    "\n",
    " </b></li>\n",
    "        <li><b>business_state: State or province for the business. In the U.S. this should be the two-letter code for the state. </b> </li>\n",
    "        <li><b>business_postal_code: Zip code or other postal code.</b></li>\n",
    "        <li><b>business_phone_number: Phone number for a business including country specific dialing information.\n",
    "Example: +14159083801</b></li>\n",
    "        <li><b>inspection_date: </b></li>\n",
    "        <li><b>inspection_score: Calculated inspection score, may be either graded (0-5, 0-100), or cumulative, and this should be defined in your feed metadata.</b></li>\n",
    "        <li><b>inspection_description: Single line description containing details on the outcome of an inspection</b></li>\n",
    "        <li><b>inspection_type: String representing the type of inspection.\n",
    "Must be one of: initial, routine, follow-up, complaint</b></li>\n",
    "        <li><b>violation_descriptionOne line description of the violation.</b></li>\n",
    "        <li><b>violation_code: Code for the violation. It is recommended that this be based on the FDA Food Code. However, municipalities can decide to use pre-existing codes for this field.</b></li>\n",
    "        <li><b>business_location: Address of the business</b></li>\n",
    "</ol>\n",
    "\n",
    "    \n"
   ]
  },
  {
   "cell_type": "code",
   "execution_count": 1,
   "id": "2f5c0cda",
   "metadata": {},
   "outputs": [
    {
     "name": "stderr",
     "output_type": "stream",
     "text": [
      "Registered S3 methods overwritten by 'ggplot2':\n",
      "  method         from \n",
      "  [.quosures     rlang\n",
      "  c.quosures     rlang\n",
      "  print.quosures rlang\n",
      "Registered S3 method overwritten by 'rvest':\n",
      "  method            from\n",
      "  read_xml.response xml2\n",
      "── Attaching packages ─────────────────────────────────────── tidyverse 1.2.1 ──\n",
      "✔ tibble  2.1.1       ✔ purrr   0.3.2  \n",
      "✔ tidyr   0.8.3       ✔ dplyr   0.8.0.1\n",
      "✔ readr   1.3.1       ✔ stringr 1.4.0  \n",
      "✔ tibble  2.1.1       ✔ forcats 0.4.0  \n",
      "── Conflicts ────────────────────────────────────────── tidyverse_conflicts() ──\n",
      "✖ dplyr::filter() masks stats::filter()\n",
      "✖ dplyr::lag()    masks stats::lag()\n",
      "\n",
      "Attaching package: ‘lubridate’\n",
      "\n",
      "The following object is masked from ‘package:base’:\n",
      "\n",
      "    date\n",
      "\n"
     ]
    }
   ],
   "source": [
    "# loading the needed library\n",
    "library(ggplot2)\n",
    "library(tidyverse)\n",
    "library(lubridate)\n",
    "library(tidyr)\n",
    "#library(heatmaply)"
   ]
  },
  {
   "cell_type": "code",
   "execution_count": 2,
   "id": "3b7aa799",
   "metadata": {},
   "outputs": [],
   "source": [
    "# Loading the data\n",
    "df <- read.csv(\"https://query.data.world/s/2kuh5d77w22kymfw37kwpbvnyy6hxd?dws=00000\", header=TRUE, stringsAsFactors=FALSE);"
   ]
  },
  {
   "cell_type": "markdown",
   "id": "ca0ba570",
   "metadata": {},
   "source": [
    "Great! Now let's get a quick look with head() and check out the structure with dim()"
   ]
  },
  {
   "cell_type": "code",
   "execution_count": 3,
   "id": "7c6442c4",
   "metadata": {},
   "outputs": [
    {
     "data": {
      "text/html": [
       "<ol class=list-inline>\n",
       "\t<li>45006</li>\n",
       "\t<li>14</li>\n",
       "</ol>\n"
      ],
      "text/latex": [
       "\\begin{enumerate*}\n",
       "\\item 45006\n",
       "\\item 14\n",
       "\\end{enumerate*}\n"
      ],
      "text/markdown": [
       "1. 45006\n",
       "2. 14\n",
       "\n",
       "\n"
      ],
      "text/plain": [
       "[1] 45006    14"
      ]
     },
     "metadata": {},
     "output_type": "display_data"
    },
    {
     "data": {
      "text/html": [
       "<table>\n",
       "<thead><tr><th scope=col>business_id</th><th scope=col>business_name</th><th scope=col>business_address</th><th scope=col>business_city</th><th scope=col>business_state</th><th scope=col>business_postal_code</th><th scope=col>business_phone_number</th><th scope=col>inspection_date</th><th scope=col>inspection_score</th><th scope=col>inspection_description</th><th scope=col>inspection_type</th><th scope=col>violation_description</th><th scope=col>violation_code</th><th scope=col>business_location</th></tr></thead>\n",
       "<tbody>\n",
       "\t<tr><td>FA0005362 (https://anchorageonline.envisionconnect.com/#/pa1/detail/FA0005362/PR0005337)</td><td>MCGINLEYS PUB                                                                           </td><td>645 G ST                                                                                </td><td>ANCHORAGE                                                                               </td><td>AK                                                                                      </td><td>    99501                                                                               </td><td>9072791782                                                                              </td><td>03/07/2017                                                                              </td><td>94                                                                                      </td><td>SCHEDULE REGULAR INSPECTION WITHIN 12 MONTHS                                            </td><td>Regular                                                                                 </td><td>HANDWASHING FACILITIES SUPPLIED, ACCESSIBLE                                             </td><td>0008                                                                                    </td><td>645 G ST\n",
       "ANCHORAGE, AK 99501\n",
       "(61.2157799112, -149.8954625568)                         </td></tr>\n",
       "\t<tr><td>FA0000274 (https://anchorageonline.envisionconnect.com/#/pa1/detail/FA0000274/PR0000274)</td><td>VILLAGE INN #1                                                                          </td><td>1130 E NORTHERN LIGHTS BLVD                                                             </td><td>ANCHORAGE                                                                               </td><td>AK                                                                                      </td><td>995084219                                                                               </td><td>9072796013                                                                              </td><td>10/21/2015                                                                              </td><td>86                                                                                      </td><td>SCHEDULE REGULAR INSPECTION WITHIN 12 MONTHS                                            </td><td>Regular                                                                                 </td><td>DEMONSTRATION OF KNOWLEDGE                                                              </td><td>0001                                                                                    </td><td>1130 E NORTHERN LIGHTS BLVD\n",
       "ANCHORAGE, AK 995084219\n",
       "(61.1951723449, -149.8613174714)  </td></tr>\n",
       "\t<tr><td>FA0007874 (https://anchorageonline.envisionconnect.com/#/pa1/detail/FA0007874/PR0007823)</td><td>RONNIE SUSHI 2                                                                          </td><td>924 MULDOON RD                                                                          </td><td>ANCHORAGE                                                                               </td><td>AK                                                                                      </td><td>    99504                                                                               </td><td>9073380001                                                                              </td><td>11/22/2016                                                                              </td><td>80                                                                                      </td><td>ENFORCEMENT INSPECTION REQUIRED                                                         </td><td>Regular                                                                                 </td><td>THERMOMETERS PROVIDED AND ACCURATE                                                      </td><td>0034                                                                                    </td><td>924 MULDOON RD\n",
       "ANCHORAGE, AK 99504\n",
       "(61.2138789468, -149.7335368102)                   </td></tr>\n",
       "\t<tr><td>FA0001485 (https://anchorageonline.envisionconnect.com/#/pa1/detail/FA0001485/PR0001485)</td><td>FRED MEYER - RETAIL FISH                                                                </td><td>1000 E NORTHERN LIGHTS BLVD                                                             </td><td>ANCHORAGE                                                                               </td><td>AK                                                                                      </td><td>    99503                                                                               </td><td>        NA                                                                              </td><td>12/23/2003                                                                              </td><td>96                                                                                      </td><td>NO ACTION                                                                               </td><td>Regular                                                                                 </td><td>                                                                                        </td><td>                                                                                        </td><td>1000 E NORTHERN LIGHTS BLVD\n",
       "ANCHORAGE, AK 99503\n",
       "(61.1952224623, -149.8649503988)      </td></tr>\n",
       "\t<tr><td>FA0009047 (https://anchorageonline.envisionconnect.com/#/pa1/detail/FA0009047/PR0008958)</td><td>PHO GRILL                                                                               </td><td>8809 JEWEL LAKE RD                                                                      </td><td>ANCHORAGE                                                                               </td><td>AK                                                                                      </td><td>    99502                                                                               </td><td>9078681881                                                                              </td><td>07/13/2017                                                                              </td><td>83                                                                                      </td><td>ENFORCEMENT INSPECTION REQUIRED                                                         </td><td>Regular                                                                                 </td><td>BARE HAND CONTACT WITH READY TO EAT FOOD                                                </td><td>0007                                                                                    </td><td>8809 JEWEL LAKE RD\n",
       "ANCHORAGE, AK 99502\n",
       "(61.140308886, -149.9518697271)                </td></tr>\n",
       "\t<tr><td>FA0003387 (https://anchorageonline.envisionconnect.com/#/pa1/detail/FA0003387/PR0003382)</td><td>TACO KING #2                                                                            </td><td>1330 E HUFFMAN RD                                                                       </td><td>ANCHORAGE                                                                               </td><td>AK                                                                                      </td><td>    99515                                                                               </td><td>9073446714                                                                              </td><td>09/10/2008                                                                              </td><td>95                                                                                      </td><td>NO ACTION                                                                               </td><td>Regular                                                                                 </td><td>12  HANDS CLEAN, GOOD HYGIENE, CERTIFICATION                                            </td><td>0012                                                                                    </td><td>1330 E HUFFMAN RD\n",
       "ANCHORAGE, AK 99515\n",
       "(61.1086219671, -149.8575388547)                </td></tr>\n",
       "</tbody>\n",
       "</table>\n"
      ],
      "text/latex": [
       "\\begin{tabular}{r|llllllllllllll}\n",
       " business\\_id & business\\_name & business\\_address & business\\_city & business\\_state & business\\_postal\\_code & business\\_phone\\_number & inspection\\_date & inspection\\_score & inspection\\_description & inspection\\_type & violation\\_description & violation\\_code & business\\_location\\\\\n",
       "\\hline\n",
       "\t FA0005362 (https://anchorageonline.envisionconnect.com/\\#/pa1/detail/FA0005362/PR0005337) & MCGINLEYS PUB                                                                              & 645 G ST                                                                                   & ANCHORAGE                                                                                  & AK                                                                                         &     99501                                                                                  & 9072791782                                                                                 & 03/07/2017                                                                                 & 94                                                                                         & SCHEDULE REGULAR INSPECTION WITHIN 12 MONTHS                                               & Regular                                                                                    & HANDWASHING FACILITIES SUPPLIED, ACCESSIBLE                                                & 0008                                                                                       & 645 G ST\n",
       "ANCHORAGE, AK 99501\n",
       "(61.2157799112, -149.8954625568)                           \\\\\n",
       "\t FA0000274 (https://anchorageonline.envisionconnect.com/\\#/pa1/detail/FA0000274/PR0000274) & VILLAGE INN \\#1                                                                           & 1130 E NORTHERN LIGHTS BLVD                                                                & ANCHORAGE                                                                                  & AK                                                                                         & 995084219                                                                                  & 9072796013                                                                                 & 10/21/2015                                                                                 & 86                                                                                         & SCHEDULE REGULAR INSPECTION WITHIN 12 MONTHS                                               & Regular                                                                                    & DEMONSTRATION OF KNOWLEDGE                                                                 & 0001                                                                                       & 1130 E NORTHERN LIGHTS BLVD\n",
       "ANCHORAGE, AK 995084219\n",
       "(61.1951723449, -149.8613174714)    \\\\\n",
       "\t FA0007874 (https://anchorageonline.envisionconnect.com/\\#/pa1/detail/FA0007874/PR0007823) & RONNIE SUSHI 2                                                                             & 924 MULDOON RD                                                                             & ANCHORAGE                                                                                  & AK                                                                                         &     99504                                                                                  & 9073380001                                                                                 & 11/22/2016                                                                                 & 80                                                                                         & ENFORCEMENT INSPECTION REQUIRED                                                            & Regular                                                                                    & THERMOMETERS PROVIDED AND ACCURATE                                                         & 0034                                                                                       & 924 MULDOON RD\n",
       "ANCHORAGE, AK 99504\n",
       "(61.2138789468, -149.7335368102)                     \\\\\n",
       "\t FA0001485 (https://anchorageonline.envisionconnect.com/\\#/pa1/detail/FA0001485/PR0001485) & FRED MEYER - RETAIL FISH                                                                   & 1000 E NORTHERN LIGHTS BLVD                                                                & ANCHORAGE                                                                                  & AK                                                                                         &     99503                                                                                  &         NA                                                                                 & 12/23/2003                                                                                 & 96                                                                                         & NO ACTION                                                                                  & Regular                                                                                    &                                                                                            &                                                                                            & 1000 E NORTHERN LIGHTS BLVD\n",
       "ANCHORAGE, AK 99503\n",
       "(61.1952224623, -149.8649503988)        \\\\\n",
       "\t FA0009047 (https://anchorageonline.envisionconnect.com/\\#/pa1/detail/FA0009047/PR0008958) & PHO GRILL                                                                                  & 8809 JEWEL LAKE RD                                                                         & ANCHORAGE                                                                                  & AK                                                                                         &     99502                                                                                  & 9078681881                                                                                 & 07/13/2017                                                                                 & 83                                                                                         & ENFORCEMENT INSPECTION REQUIRED                                                            & Regular                                                                                    & BARE HAND CONTACT WITH READY TO EAT FOOD                                                   & 0007                                                                                       & 8809 JEWEL LAKE RD\n",
       "ANCHORAGE, AK 99502\n",
       "(61.140308886, -149.9518697271)                  \\\\\n",
       "\t FA0003387 (https://anchorageonline.envisionconnect.com/\\#/pa1/detail/FA0003387/PR0003382) & TACO KING \\#2                                                                             & 1330 E HUFFMAN RD                                                                          & ANCHORAGE                                                                                  & AK                                                                                         &     99515                                                                                  & 9073446714                                                                                 & 09/10/2008                                                                                 & 95                                                                                         & NO ACTION                                                                                  & Regular                                                                                    & 12  HANDS CLEAN, GOOD HYGIENE, CERTIFICATION                                               & 0012                                                                                       & 1330 E HUFFMAN RD\n",
       "ANCHORAGE, AK 99515\n",
       "(61.1086219671, -149.8575388547)                  \\\\\n",
       "\\end{tabular}\n"
      ],
      "text/markdown": [
       "\n",
       "| business_id | business_name | business_address | business_city | business_state | business_postal_code | business_phone_number | inspection_date | inspection_score | inspection_description | inspection_type | violation_description | violation_code | business_location |\n",
       "|---|---|---|---|---|---|---|---|---|---|---|---|---|---|\n",
       "| FA0005362 (https://anchorageonline.envisionconnect.com/#/pa1/detail/FA0005362/PR0005337) | MCGINLEYS PUB                                                                            | 645 G ST                                                                                 | ANCHORAGE                                                                                | AK                                                                                       |     99501                                                                                | 9072791782                                                                               | 03/07/2017                                                                               | 94                                                                                       | SCHEDULE REGULAR INSPECTION WITHIN 12 MONTHS                                             | Regular                                                                                  | HANDWASHING FACILITIES SUPPLIED, ACCESSIBLE                                              | 0008                                                                                     | 645 G ST\n",
       "ANCHORAGE, AK 99501\n",
       "(61.2157799112, -149.8954625568)                          |\n",
       "| FA0000274 (https://anchorageonline.envisionconnect.com/#/pa1/detail/FA0000274/PR0000274) | VILLAGE INN #1                                                                           | 1130 E NORTHERN LIGHTS BLVD                                                              | ANCHORAGE                                                                                | AK                                                                                       | 995084219                                                                                | 9072796013                                                                               | 10/21/2015                                                                               | 86                                                                                       | SCHEDULE REGULAR INSPECTION WITHIN 12 MONTHS                                             | Regular                                                                                  | DEMONSTRATION OF KNOWLEDGE                                                               | 0001                                                                                     | 1130 E NORTHERN LIGHTS BLVD\n",
       "ANCHORAGE, AK 995084219\n",
       "(61.1951723449, -149.8613174714)   |\n",
       "| FA0007874 (https://anchorageonline.envisionconnect.com/#/pa1/detail/FA0007874/PR0007823) | RONNIE SUSHI 2                                                                           | 924 MULDOON RD                                                                           | ANCHORAGE                                                                                | AK                                                                                       |     99504                                                                                | 9073380001                                                                               | 11/22/2016                                                                               | 80                                                                                       | ENFORCEMENT INSPECTION REQUIRED                                                          | Regular                                                                                  | THERMOMETERS PROVIDED AND ACCURATE                                                       | 0034                                                                                     | 924 MULDOON RD\n",
       "ANCHORAGE, AK 99504\n",
       "(61.2138789468, -149.7335368102)                    |\n",
       "| FA0001485 (https://anchorageonline.envisionconnect.com/#/pa1/detail/FA0001485/PR0001485) | FRED MEYER - RETAIL FISH                                                                 | 1000 E NORTHERN LIGHTS BLVD                                                              | ANCHORAGE                                                                                | AK                                                                                       |     99503                                                                                |         NA                                                                               | 12/23/2003                                                                               | 96                                                                                       | NO ACTION                                                                                | Regular                                                                                  |                                                                                          |                                                                                          | 1000 E NORTHERN LIGHTS BLVD\n",
       "ANCHORAGE, AK 99503\n",
       "(61.1952224623, -149.8649503988)       |\n",
       "| FA0009047 (https://anchorageonline.envisionconnect.com/#/pa1/detail/FA0009047/PR0008958) | PHO GRILL                                                                                | 8809 JEWEL LAKE RD                                                                       | ANCHORAGE                                                                                | AK                                                                                       |     99502                                                                                | 9078681881                                                                               | 07/13/2017                                                                               | 83                                                                                       | ENFORCEMENT INSPECTION REQUIRED                                                          | Regular                                                                                  | BARE HAND CONTACT WITH READY TO EAT FOOD                                                 | 0007                                                                                     | 8809 JEWEL LAKE RD\n",
       "ANCHORAGE, AK 99502\n",
       "(61.140308886, -149.9518697271)                 |\n",
       "| FA0003387 (https://anchorageonline.envisionconnect.com/#/pa1/detail/FA0003387/PR0003382) | TACO KING #2                                                                             | 1330 E HUFFMAN RD                                                                        | ANCHORAGE                                                                                | AK                                                                                       |     99515                                                                                | 9073446714                                                                               | 09/10/2008                                                                               | 95                                                                                       | NO ACTION                                                                                | Regular                                                                                  | 12  HANDS CLEAN, GOOD HYGIENE, CERTIFICATION                                             | 0012                                                                                     | 1330 E HUFFMAN RD\n",
       "ANCHORAGE, AK 99515\n",
       "(61.1086219671, -149.8575388547)                 |\n",
       "\n"
      ],
      "text/plain": [
       "  business_id                                                                             \n",
       "1 FA0005362 (https://anchorageonline.envisionconnect.com/#/pa1/detail/FA0005362/PR0005337)\n",
       "2 FA0000274 (https://anchorageonline.envisionconnect.com/#/pa1/detail/FA0000274/PR0000274)\n",
       "3 FA0007874 (https://anchorageonline.envisionconnect.com/#/pa1/detail/FA0007874/PR0007823)\n",
       "4 FA0001485 (https://anchorageonline.envisionconnect.com/#/pa1/detail/FA0001485/PR0001485)\n",
       "5 FA0009047 (https://anchorageonline.envisionconnect.com/#/pa1/detail/FA0009047/PR0008958)\n",
       "6 FA0003387 (https://anchorageonline.envisionconnect.com/#/pa1/detail/FA0003387/PR0003382)\n",
       "  business_name            business_address            business_city\n",
       "1 MCGINLEYS PUB            645 G ST                    ANCHORAGE    \n",
       "2 VILLAGE INN #1           1130 E NORTHERN LIGHTS BLVD ANCHORAGE    \n",
       "3 RONNIE SUSHI 2           924 MULDOON RD              ANCHORAGE    \n",
       "4 FRED MEYER - RETAIL FISH 1000 E NORTHERN LIGHTS BLVD ANCHORAGE    \n",
       "5 PHO GRILL                8809 JEWEL LAKE RD          ANCHORAGE    \n",
       "6 TACO KING #2             1330 E HUFFMAN RD           ANCHORAGE    \n",
       "  business_state business_postal_code business_phone_number inspection_date\n",
       "1 AK                 99501            9072791782            03/07/2017     \n",
       "2 AK             995084219            9072796013            10/21/2015     \n",
       "3 AK                 99504            9073380001            11/22/2016     \n",
       "4 AK                 99503                    NA            12/23/2003     \n",
       "5 AK                 99502            9078681881            07/13/2017     \n",
       "6 AK                 99515            9073446714            09/10/2008     \n",
       "  inspection_score inspection_description                       inspection_type\n",
       "1 94               SCHEDULE REGULAR INSPECTION WITHIN 12 MONTHS Regular        \n",
       "2 86               SCHEDULE REGULAR INSPECTION WITHIN 12 MONTHS Regular        \n",
       "3 80               ENFORCEMENT INSPECTION REQUIRED              Regular        \n",
       "4 96               NO ACTION                                    Regular        \n",
       "5 83               ENFORCEMENT INSPECTION REQUIRED              Regular        \n",
       "6 95               NO ACTION                                    Regular        \n",
       "  violation_description                        violation_code\n",
       "1 HANDWASHING FACILITIES SUPPLIED, ACCESSIBLE  0008          \n",
       "2 DEMONSTRATION OF KNOWLEDGE                   0001          \n",
       "3 THERMOMETERS PROVIDED AND ACCURATE           0034          \n",
       "4                                                            \n",
       "5 BARE HAND CONTACT WITH READY TO EAT FOOD     0007          \n",
       "6 12  HANDS CLEAN, GOOD HYGIENE, CERTIFICATION 0012          \n",
       "  business_location                                                                     \n",
       "1 645 G ST\\nANCHORAGE, AK 99501\\n(61.2157799112, -149.8954625568)                       \n",
       "2 1130 E NORTHERN LIGHTS BLVD\\nANCHORAGE, AK 995084219\\n(61.1951723449, -149.8613174714)\n",
       "3 924 MULDOON RD\\nANCHORAGE, AK 99504\\n(61.2138789468, -149.7335368102)                 \n",
       "4 1000 E NORTHERN LIGHTS BLVD\\nANCHORAGE, AK 99503\\n(61.1952224623, -149.8649503988)    \n",
       "5 8809 JEWEL LAKE RD\\nANCHORAGE, AK 99502\\n(61.140308886, -149.9518697271)              \n",
       "6 1330 E HUFFMAN RD\\nANCHORAGE, AK 99515\\n(61.1086219671, -149.8575388547)              "
      ]
     },
     "metadata": {},
     "output_type": "display_data"
    }
   ],
   "source": [
    "df %>%\n",
    "dim()\n",
    "\n",
    "head(df)"
   ]
  },
  {
   "cell_type": "markdown",
   "id": "21b064de",
   "metadata": {},
   "source": [
    "There are 45006 rows and  14 columns "
   ]
  },
  {
   "cell_type": "code",
   "execution_count": 4,
   "id": "61788093",
   "metadata": {},
   "outputs": [
    {
     "name": "stdout",
     "output_type": "stream",
     "text": [
      "Observations: 45,006\n",
      "Variables: 14\n",
      "$ business_id            <chr> \"FA0005362 (https://anchorageonline.envisionco…\n",
      "$ business_name          <chr> \"MCGINLEYS PUB\", \"VILLAGE INN #1\", \"RONNIE SUS…\n",
      "$ business_address       <chr> \"645 G ST\", \"1130 E NORTHERN LIGHTS BLVD\", \"92…\n",
      "$ business_city          <chr> \"ANCHORAGE\", \"ANCHORAGE\", \"ANCHORAGE\", \"ANCHOR…\n",
      "$ business_state         <chr> \"AK\", \"AK\", \"AK\", \"AK\", \"AK\", \"AK\", \"AK\", \"AK\"…\n",
      "$ business_postal_code   <int> 99501, 995084219, 99504, 99503, 99502, 99515, …\n",
      "$ business_phone_number  <dbl> 9072791782, 9072796013, 9073380001, NA, 907868…\n",
      "$ inspection_date        <chr> \"03/07/2017\", \"10/21/2015\", \"11/22/2016\", \"12/…\n",
      "$ inspection_score       <int> 94, 86, 80, 96, 83, 95, NA, NA, NA, NA, 94, 10…\n",
      "$ inspection_description <chr> \"SCHEDULE REGULAR INSPECTION WITHIN 12 MONTHS\"…\n",
      "$ inspection_type        <chr> \"Regular\", \"Regular\", \"Regular\", \"Regular\", \"R…\n",
      "$ violation_description  <chr> \"HANDWASHING FACILITIES SUPPLIED, ACCESSIBLE\",…\n",
      "$ violation_code         <chr> \"0008\", \"0001\", \"0034\", \"\", \"0007\", \"0012\", \"0…\n",
      "$ business_location      <chr> \"645 G ST\\nANCHORAGE, AK 99501\\n(61.2157799112…\n"
     ]
    }
   ],
   "source": [
    "# Have a glimpse of columns info\n",
    "glimpse(df)"
   ]
  },
  {
   "cell_type": "code",
   "execution_count": 5,
   "id": "2f4db6dc",
   "metadata": {},
   "outputs": [
    {
     "data": {
      "text/html": [
       "<ol class=list-inline>\n",
       "\t<li>'AK'</li>\n",
       "\t<li>'S'</li>\n",
       "</ol>\n"
      ],
      "text/latex": [
       "\\begin{enumerate*}\n",
       "\\item 'AK'\n",
       "\\item 'S'\n",
       "\\end{enumerate*}\n"
      ],
      "text/markdown": [
       "1. 'AK'\n",
       "2. 'S'\n",
       "\n",
       "\n"
      ],
      "text/plain": [
       "[1] \"AK\" \"S\" "
      ]
     },
     "metadata": {},
     "output_type": "display_data"
    }
   ],
   "source": [
    "# CHecking to see how many states data were gotten from\n",
    "unique(df$business_state )"
   ]
  },
  {
   "cell_type": "code",
   "execution_count": 6,
   "id": "547680a8",
   "metadata": {},
   "outputs": [
    {
     "data": {
      "text/html": [
       "<ol class=list-inline>\n",
       "\t<li>'ANCHORAGE'</li>\n",
       "\t<li>'EAGLE RIVER'</li>\n",
       "\t<li>'CHUGIAK'</li>\n",
       "\t<li>'GIRDWOOD'</li>\n",
       "\t<li>'INDIAN'</li>\n",
       "\t<li>'FT RICHARDSON'</li>\n",
       "\t<li>'JBER'</li>\n",
       "\t<li>'WASILLA'</li>\n",
       "\t<li>'PORTAGE'</li>\n",
       "\t<li>'PALMER'</li>\n",
       "</ol>\n"
      ],
      "text/latex": [
       "\\begin{enumerate*}\n",
       "\\item 'ANCHORAGE'\n",
       "\\item 'EAGLE RIVER'\n",
       "\\item 'CHUGIAK'\n",
       "\\item 'GIRDWOOD'\n",
       "\\item 'INDIAN'\n",
       "\\item 'FT RICHARDSON'\n",
       "\\item 'JBER'\n",
       "\\item 'WASILLA'\n",
       "\\item 'PORTAGE'\n",
       "\\item 'PALMER'\n",
       "\\end{enumerate*}\n"
      ],
      "text/markdown": [
       "1. 'ANCHORAGE'\n",
       "2. 'EAGLE RIVER'\n",
       "3. 'CHUGIAK'\n",
       "4. 'GIRDWOOD'\n",
       "5. 'INDIAN'\n",
       "6. 'FT RICHARDSON'\n",
       "7. 'JBER'\n",
       "8. 'WASILLA'\n",
       "9. 'PORTAGE'\n",
       "10. 'PALMER'\n",
       "\n",
       "\n"
      ],
      "text/plain": [
       " [1] \"ANCHORAGE\"     \"EAGLE RIVER\"   \"CHUGIAK\"       \"GIRDWOOD\"     \n",
       " [5] \"INDIAN\"        \"FT RICHARDSON\" \"JBER\"          \"WASILLA\"      \n",
       " [9] \"PORTAGE\"       \"PALMER\"       "
      ]
     },
     "metadata": {},
     "output_type": "display_data"
    }
   ],
   "source": [
    "# lets do same for cities\n",
    "unique(df$business_city )"
   ]
  },
  {
   "cell_type": "code",
   "execution_count": 11,
   "id": "dae93d62",
   "metadata": {},
   "outputs": [
    {
     "data": {
      "text/html": [
       "<table>\n",
       "<thead><tr><th scope=col>business_id</th><th scope=col>business_name</th><th scope=col>business_address</th><th scope=col>business_city</th><th scope=col>business_state</th><th scope=col>business_postal_code</th><th scope=col>business_phone_number</th><th scope=col>inspection_date</th><th scope=col>inspection_score</th><th scope=col>inspection_description</th><th scope=col>inspection_type</th><th scope=col>violation_description</th><th scope=col>violation_code</th><th scope=col>business_location</th></tr></thead>\n",
       "<tbody>\n",
       "\t<tr><td>FA0005362 (https://anchorageonline.envisionconnect.com/#/pa1/detail/FA0005362/PR0005337)</td><td>MCGINLEYS PUB                                                                           </td><td>645 G ST                                                                                </td><td>ANCHORAGE                                                                               </td><td>AK                                                                                      </td><td>    99501                                                                               </td><td>9072791782                                                                              </td><td>03/07/2017                                                                              </td><td>94                                                                                      </td><td>SCHEDULE REGULAR INSPECTION WITHIN 12 MONTHS                                            </td><td>Regular                                                                                 </td><td>HANDWASHING FACILITIES SUPPLIED, ACCESSIBLE                                             </td><td>0008                                                                                    </td><td>645 G ST\n",
       "ANCHORAGE, AK 99501\n",
       "(61.2157799112, -149.8954625568)                         </td></tr>\n",
       "\t<tr><td>FA0000274 (https://anchorageonline.envisionconnect.com/#/pa1/detail/FA0000274/PR0000274)</td><td>VILLAGE INN #1                                                                          </td><td>1130 E NORTHERN LIGHTS BLVD                                                             </td><td>ANCHORAGE                                                                               </td><td>AK                                                                                      </td><td>995084219                                                                               </td><td>9072796013                                                                              </td><td>10/21/2015                                                                              </td><td>86                                                                                      </td><td>SCHEDULE REGULAR INSPECTION WITHIN 12 MONTHS                                            </td><td>Regular                                                                                 </td><td>DEMONSTRATION OF KNOWLEDGE                                                              </td><td>0001                                                                                    </td><td>1130 E NORTHERN LIGHTS BLVD\n",
       "ANCHORAGE, AK 995084219\n",
       "(61.1951723449, -149.8613174714)  </td></tr>\n",
       "\t<tr><td>FA0009047 (https://anchorageonline.envisionconnect.com/#/pa1/detail/FA0009047/PR0008958)</td><td>PHO GRILL                                                                               </td><td>8809 JEWEL LAKE RD                                                                      </td><td>ANCHORAGE                                                                               </td><td>AK                                                                                      </td><td>    99502                                                                               </td><td>9078681881                                                                              </td><td>07/13/2017                                                                              </td><td>83                                                                                      </td><td>ENFORCEMENT INSPECTION REQUIRED                                                         </td><td>Regular                                                                                 </td><td>BARE HAND CONTACT WITH READY TO EAT FOOD                                                </td><td>0007                                                                                    </td><td>8809 JEWEL LAKE RD\n",
       "ANCHORAGE, AK 99502\n",
       "(61.140308886, -149.9518697271)                </td></tr>\n",
       "\t<tr><td>FA0003387 (https://anchorageonline.envisionconnect.com/#/pa1/detail/FA0003387/PR0003382)</td><td>TACO KING #2                                                                            </td><td>1330 E HUFFMAN RD                                                                       </td><td>ANCHORAGE                                                                               </td><td>AK                                                                                      </td><td>    99515                                                                               </td><td>9073446714                                                                              </td><td>09/10/2008                                                                              </td><td>95                                                                                      </td><td>NO ACTION                                                                               </td><td>Regular                                                                                 </td><td>12  HANDS CLEAN, GOOD HYGIENE, CERTIFICATION                                            </td><td>0012                                                                                    </td><td>1330 E HUFFMAN RD\n",
       "ANCHORAGE, AK 99515\n",
       "(61.1086219671, -149.8575388547)                </td></tr>\n",
       "\t<tr><td>FA0003022 (https://anchorageonline.envisionconnect.com/#/pa1/detail/FA0003022/PR0003019)</td><td>MCLAUGHLIN YOUTH CENTER                                                                 </td><td>2600 PROVIDENCE DR                                                                      </td><td>ANCHORAGE                                                                               </td><td>AK                                                                                      </td><td>    99508                                                                               </td><td>9072694316                                                                              </td><td>04/18/2012                                                                              </td><td>NA                                                                                      </td><td>NO ACTION                                                                               </td><td>Regular                                                                                 </td><td>PLUMBING INSTALLED, PROPER BACKFLOW DEVICES                                             </td><td>0049                                                                                    </td><td>2600 PROVIDENCE DR\n",
       "ANCHORAGE, AK 99508\n",
       "(61.1879321325, -149.8321596484)               </td></tr>\n",
       "\t<tr><td>FA0010756 (https://anchorageonline.envisionconnect.com/#/pa1/detail/FA0010756/PR0010645)</td><td>AJ'S RIB-A-GO-GO                                                                        </td><td>8640 LAKE OTIS PKWY                                                                     </td><td>ANCHORAGE                                                                               </td><td>AK                                                                                      </td><td>    99507                                                                               </td><td>9078840558                                                                              </td><td>06/06/2017                                                                              </td><td>94                                                                                      </td><td>SCHEDULE REGULAR INSPECTION WITHIN 12 MONTHS                                            </td><td>Regular                                                                                 </td><td>DEMONSTRATION OF KNOWLEDGE                                                              </td><td>0001                                                                                    </td><td>8640 LAKE OTIS PKWY\n",
       "ANCHORAGE, AK 99507\n",
       "(61.1420292774, -149.8342459299)              </td></tr>\n",
       "</tbody>\n",
       "</table>\n"
      ],
      "text/latex": [
       "\\begin{tabular}{r|llllllllllllll}\n",
       " business\\_id & business\\_name & business\\_address & business\\_city & business\\_state & business\\_postal\\_code & business\\_phone\\_number & inspection\\_date & inspection\\_score & inspection\\_description & inspection\\_type & violation\\_description & violation\\_code & business\\_location\\\\\n",
       "\\hline\n",
       "\t FA0005362 (https://anchorageonline.envisionconnect.com/\\#/pa1/detail/FA0005362/PR0005337) & MCGINLEYS PUB                                                                              & 645 G ST                                                                                   & ANCHORAGE                                                                                  & AK                                                                                         &     99501                                                                                  & 9072791782                                                                                 & 03/07/2017                                                                                 & 94                                                                                         & SCHEDULE REGULAR INSPECTION WITHIN 12 MONTHS                                               & Regular                                                                                    & HANDWASHING FACILITIES SUPPLIED, ACCESSIBLE                                                & 0008                                                                                       & 645 G ST\n",
       "ANCHORAGE, AK 99501\n",
       "(61.2157799112, -149.8954625568)                           \\\\\n",
       "\t FA0000274 (https://anchorageonline.envisionconnect.com/\\#/pa1/detail/FA0000274/PR0000274) & VILLAGE INN \\#1                                                                           & 1130 E NORTHERN LIGHTS BLVD                                                                & ANCHORAGE                                                                                  & AK                                                                                         & 995084219                                                                                  & 9072796013                                                                                 & 10/21/2015                                                                                 & 86                                                                                         & SCHEDULE REGULAR INSPECTION WITHIN 12 MONTHS                                               & Regular                                                                                    & DEMONSTRATION OF KNOWLEDGE                                                                 & 0001                                                                                       & 1130 E NORTHERN LIGHTS BLVD\n",
       "ANCHORAGE, AK 995084219\n",
       "(61.1951723449, -149.8613174714)    \\\\\n",
       "\t FA0009047 (https://anchorageonline.envisionconnect.com/\\#/pa1/detail/FA0009047/PR0008958) & PHO GRILL                                                                                  & 8809 JEWEL LAKE RD                                                                         & ANCHORAGE                                                                                  & AK                                                                                         &     99502                                                                                  & 9078681881                                                                                 & 07/13/2017                                                                                 & 83                                                                                         & ENFORCEMENT INSPECTION REQUIRED                                                            & Regular                                                                                    & BARE HAND CONTACT WITH READY TO EAT FOOD                                                   & 0007                                                                                       & 8809 JEWEL LAKE RD\n",
       "ANCHORAGE, AK 99502\n",
       "(61.140308886, -149.9518697271)                  \\\\\n",
       "\t FA0003387 (https://anchorageonline.envisionconnect.com/\\#/pa1/detail/FA0003387/PR0003382) & TACO KING \\#2                                                                             & 1330 E HUFFMAN RD                                                                          & ANCHORAGE                                                                                  & AK                                                                                         &     99515                                                                                  & 9073446714                                                                                 & 09/10/2008                                                                                 & 95                                                                                         & NO ACTION                                                                                  & Regular                                                                                    & 12  HANDS CLEAN, GOOD HYGIENE, CERTIFICATION                                               & 0012                                                                                       & 1330 E HUFFMAN RD\n",
       "ANCHORAGE, AK 99515\n",
       "(61.1086219671, -149.8575388547)                  \\\\\n",
       "\t FA0003022 (https://anchorageonline.envisionconnect.com/\\#/pa1/detail/FA0003022/PR0003019) & MCLAUGHLIN YOUTH CENTER                                                                    & 2600 PROVIDENCE DR                                                                         & ANCHORAGE                                                                                  & AK                                                                                         &     99508                                                                                  & 9072694316                                                                                 & 04/18/2012                                                                                 & NA                                                                                         & NO ACTION                                                                                  & Regular                                                                                    & PLUMBING INSTALLED, PROPER BACKFLOW DEVICES                                                & 0049                                                                                       & 2600 PROVIDENCE DR\n",
       "ANCHORAGE, AK 99508\n",
       "(61.1879321325, -149.8321596484)                 \\\\\n",
       "\t FA0010756 (https://anchorageonline.envisionconnect.com/\\#/pa1/detail/FA0010756/PR0010645) & AJ'S RIB-A-GO-GO                                                                           & 8640 LAKE OTIS PKWY                                                                        & ANCHORAGE                                                                                  & AK                                                                                         &     99507                                                                                  & 9078840558                                                                                 & 06/06/2017                                                                                 & 94                                                                                         & SCHEDULE REGULAR INSPECTION WITHIN 12 MONTHS                                               & Regular                                                                                    & DEMONSTRATION OF KNOWLEDGE                                                                 & 0001                                                                                       & 8640 LAKE OTIS PKWY\n",
       "ANCHORAGE, AK 99507\n",
       "(61.1420292774, -149.8342459299)                \\\\\n",
       "\\end{tabular}\n"
      ],
      "text/markdown": [
       "\n",
       "| business_id | business_name | business_address | business_city | business_state | business_postal_code | business_phone_number | inspection_date | inspection_score | inspection_description | inspection_type | violation_description | violation_code | business_location |\n",
       "|---|---|---|---|---|---|---|---|---|---|---|---|---|---|\n",
       "| FA0005362 (https://anchorageonline.envisionconnect.com/#/pa1/detail/FA0005362/PR0005337) | MCGINLEYS PUB                                                                            | 645 G ST                                                                                 | ANCHORAGE                                                                                | AK                                                                                       |     99501                                                                                | 9072791782                                                                               | 03/07/2017                                                                               | 94                                                                                       | SCHEDULE REGULAR INSPECTION WITHIN 12 MONTHS                                             | Regular                                                                                  | HANDWASHING FACILITIES SUPPLIED, ACCESSIBLE                                              | 0008                                                                                     | 645 G ST\n",
       "ANCHORAGE, AK 99501\n",
       "(61.2157799112, -149.8954625568)                          |\n",
       "| FA0000274 (https://anchorageonline.envisionconnect.com/#/pa1/detail/FA0000274/PR0000274) | VILLAGE INN #1                                                                           | 1130 E NORTHERN LIGHTS BLVD                                                              | ANCHORAGE                                                                                | AK                                                                                       | 995084219                                                                                | 9072796013                                                                               | 10/21/2015                                                                               | 86                                                                                       | SCHEDULE REGULAR INSPECTION WITHIN 12 MONTHS                                             | Regular                                                                                  | DEMONSTRATION OF KNOWLEDGE                                                               | 0001                                                                                     | 1130 E NORTHERN LIGHTS BLVD\n",
       "ANCHORAGE, AK 995084219\n",
       "(61.1951723449, -149.8613174714)   |\n",
       "| FA0009047 (https://anchorageonline.envisionconnect.com/#/pa1/detail/FA0009047/PR0008958) | PHO GRILL                                                                                | 8809 JEWEL LAKE RD                                                                       | ANCHORAGE                                                                                | AK                                                                                       |     99502                                                                                | 9078681881                                                                               | 07/13/2017                                                                               | 83                                                                                       | ENFORCEMENT INSPECTION REQUIRED                                                          | Regular                                                                                  | BARE HAND CONTACT WITH READY TO EAT FOOD                                                 | 0007                                                                                     | 8809 JEWEL LAKE RD\n",
       "ANCHORAGE, AK 99502\n",
       "(61.140308886, -149.9518697271)                 |\n",
       "| FA0003387 (https://anchorageonline.envisionconnect.com/#/pa1/detail/FA0003387/PR0003382) | TACO KING #2                                                                             | 1330 E HUFFMAN RD                                                                        | ANCHORAGE                                                                                | AK                                                                                       |     99515                                                                                | 9073446714                                                                               | 09/10/2008                                                                               | 95                                                                                       | NO ACTION                                                                                | Regular                                                                                  | 12  HANDS CLEAN, GOOD HYGIENE, CERTIFICATION                                             | 0012                                                                                     | 1330 E HUFFMAN RD\n",
       "ANCHORAGE, AK 99515\n",
       "(61.1086219671, -149.8575388547)                 |\n",
       "| FA0003022 (https://anchorageonline.envisionconnect.com/#/pa1/detail/FA0003022/PR0003019) | MCLAUGHLIN YOUTH CENTER                                                                  | 2600 PROVIDENCE DR                                                                       | ANCHORAGE                                                                                | AK                                                                                       |     99508                                                                                | 9072694316                                                                               | 04/18/2012                                                                               | NA                                                                                       | NO ACTION                                                                                | Regular                                                                                  | PLUMBING INSTALLED, PROPER BACKFLOW DEVICES                                              | 0049                                                                                     | 2600 PROVIDENCE DR\n",
       "ANCHORAGE, AK 99508\n",
       "(61.1879321325, -149.8321596484)                |\n",
       "| FA0010756 (https://anchorageonline.envisionconnect.com/#/pa1/detail/FA0010756/PR0010645) | AJ'S RIB-A-GO-GO                                                                         | 8640 LAKE OTIS PKWY                                                                      | ANCHORAGE                                                                                | AK                                                                                       |     99507                                                                                | 9078840558                                                                               | 06/06/2017                                                                               | 94                                                                                       | SCHEDULE REGULAR INSPECTION WITHIN 12 MONTHS                                             | Regular                                                                                  | DEMONSTRATION OF KNOWLEDGE                                                               | 0001                                                                                     | 8640 LAKE OTIS PKWY\n",
       "ANCHORAGE, AK 99507\n",
       "(61.1420292774, -149.8342459299)               |\n",
       "\n"
      ],
      "text/plain": [
       "  business_id                                                                             \n",
       "1 FA0005362 (https://anchorageonline.envisionconnect.com/#/pa1/detail/FA0005362/PR0005337)\n",
       "2 FA0000274 (https://anchorageonline.envisionconnect.com/#/pa1/detail/FA0000274/PR0000274)\n",
       "3 FA0009047 (https://anchorageonline.envisionconnect.com/#/pa1/detail/FA0009047/PR0008958)\n",
       "4 FA0003387 (https://anchorageonline.envisionconnect.com/#/pa1/detail/FA0003387/PR0003382)\n",
       "5 FA0003022 (https://anchorageonline.envisionconnect.com/#/pa1/detail/FA0003022/PR0003019)\n",
       "6 FA0010756 (https://anchorageonline.envisionconnect.com/#/pa1/detail/FA0010756/PR0010645)\n",
       "  business_name           business_address            business_city\n",
       "1 MCGINLEYS PUB           645 G ST                    ANCHORAGE    \n",
       "2 VILLAGE INN #1          1130 E NORTHERN LIGHTS BLVD ANCHORAGE    \n",
       "3 PHO GRILL               8809 JEWEL LAKE RD          ANCHORAGE    \n",
       "4 TACO KING #2            1330 E HUFFMAN RD           ANCHORAGE    \n",
       "5 MCLAUGHLIN YOUTH CENTER 2600 PROVIDENCE DR          ANCHORAGE    \n",
       "6 AJ'S RIB-A-GO-GO        8640 LAKE OTIS PKWY         ANCHORAGE    \n",
       "  business_state business_postal_code business_phone_number inspection_date\n",
       "1 AK                 99501            9072791782            03/07/2017     \n",
       "2 AK             995084219            9072796013            10/21/2015     \n",
       "3 AK                 99502            9078681881            07/13/2017     \n",
       "4 AK                 99515            9073446714            09/10/2008     \n",
       "5 AK                 99508            9072694316            04/18/2012     \n",
       "6 AK                 99507            9078840558            06/06/2017     \n",
       "  inspection_score inspection_description                       inspection_type\n",
       "1 94               SCHEDULE REGULAR INSPECTION WITHIN 12 MONTHS Regular        \n",
       "2 86               SCHEDULE REGULAR INSPECTION WITHIN 12 MONTHS Regular        \n",
       "3 83               ENFORCEMENT INSPECTION REQUIRED              Regular        \n",
       "4 95               NO ACTION                                    Regular        \n",
       "5 NA               NO ACTION                                    Regular        \n",
       "6 94               SCHEDULE REGULAR INSPECTION WITHIN 12 MONTHS Regular        \n",
       "  violation_description                        violation_code\n",
       "1 HANDWASHING FACILITIES SUPPLIED, ACCESSIBLE  0008          \n",
       "2 DEMONSTRATION OF KNOWLEDGE                   0001          \n",
       "3 BARE HAND CONTACT WITH READY TO EAT FOOD     0007          \n",
       "4 12  HANDS CLEAN, GOOD HYGIENE, CERTIFICATION 0012          \n",
       "5 PLUMBING INSTALLED, PROPER BACKFLOW DEVICES  0049          \n",
       "6 DEMONSTRATION OF KNOWLEDGE                   0001          \n",
       "  business_location                                                                     \n",
       "1 645 G ST\\nANCHORAGE, AK 99501\\n(61.2157799112, -149.8954625568)                       \n",
       "2 1130 E NORTHERN LIGHTS BLVD\\nANCHORAGE, AK 995084219\\n(61.1951723449, -149.8613174714)\n",
       "3 8809 JEWEL LAKE RD\\nANCHORAGE, AK 99502\\n(61.140308886, -149.9518697271)              \n",
       "4 1330 E HUFFMAN RD\\nANCHORAGE, AK 99515\\n(61.1086219671, -149.8575388547)              \n",
       "5 2600 PROVIDENCE DR\\nANCHORAGE, AK 99508\\n(61.1879321325, -149.8321596484)             \n",
       "6 8640 LAKE OTIS PKWY\\nANCHORAGE, AK 99507\\n(61.1420292774, -149.8342459299)            "
      ]
     },
     "metadata": {},
     "output_type": "display_data"
    },
    {
     "data": {
      "text/html": [
       "<table>\n",
       "<thead><tr><th scope=col>inspection_type</th><th scope=col>n</th></tr></thead>\n",
       "<tbody>\n",
       "\t<tr><td>C/R - INACTIVE CODE</td><td>   72              </td></tr>\n",
       "\t<tr><td>Change of Ownership</td><td>  958              </td></tr>\n",
       "\t<tr><td>Complaint          </td><td> 1871              </td></tr>\n",
       "\t<tr><td>Enforcement        </td><td>  280              </td></tr>\n",
       "\t<tr><td>FBI - INACTIVE CODE</td><td>   58              </td></tr>\n",
       "\t<tr><td>FOLLOW-UP          </td><td>   45              </td></tr>\n",
       "\t<tr><td>FU - INACTIVE CODE </td><td>   24              </td></tr>\n",
       "\t<tr><td>HACCP - INACTIVE   </td><td>  101              </td></tr>\n",
       "\t<tr><td>OB - INACTIVE CODE </td><td>   10              </td></tr>\n",
       "\t<tr><td>Opening            </td><td> 1301              </td></tr>\n",
       "\t<tr><td>Other              </td><td>  892              </td></tr>\n",
       "\t<tr><td>Plan Review        </td><td>  135              </td></tr>\n",
       "\t<tr><td>Regular            </td><td>38278              </td></tr>\n",
       "\t<tr><td>Reinspection       </td><td>  981              </td></tr>\n",
       "</tbody>\n",
       "</table>\n"
      ],
      "text/latex": [
       "\\begin{tabular}{r|ll}\n",
       " inspection\\_type & n\\\\\n",
       "\\hline\n",
       "\t C/R - INACTIVE CODE &    72              \\\\\n",
       "\t Change of Ownership &   958              \\\\\n",
       "\t Complaint           &  1871              \\\\\n",
       "\t Enforcement         &   280              \\\\\n",
       "\t FBI - INACTIVE CODE &    58              \\\\\n",
       "\t FOLLOW-UP           &    45              \\\\\n",
       "\t FU - INACTIVE CODE  &    24              \\\\\n",
       "\t HACCP - INACTIVE    &   101              \\\\\n",
       "\t OB - INACTIVE CODE  &    10              \\\\\n",
       "\t Opening             &  1301              \\\\\n",
       "\t Other               &   892              \\\\\n",
       "\t Plan Review         &   135              \\\\\n",
       "\t Regular             & 38278              \\\\\n",
       "\t Reinspection        &   981              \\\\\n",
       "\\end{tabular}\n"
      ],
      "text/markdown": [
       "\n",
       "| inspection_type | n |\n",
       "|---|---|\n",
       "| C/R - INACTIVE CODE |    72               |\n",
       "| Change of Ownership |   958               |\n",
       "| Complaint           |  1871               |\n",
       "| Enforcement         |   280               |\n",
       "| FBI - INACTIVE CODE |    58               |\n",
       "| FOLLOW-UP           |    45               |\n",
       "| FU - INACTIVE CODE  |    24               |\n",
       "| HACCP - INACTIVE    |   101               |\n",
       "| OB - INACTIVE CODE  |    10               |\n",
       "| Opening             |  1301               |\n",
       "| Other               |   892               |\n",
       "| Plan Review         |   135               |\n",
       "| Regular             | 38278               |\n",
       "| Reinspection        |   981               |\n",
       "\n"
      ],
      "text/plain": [
       "   inspection_type     n    \n",
       "1  C/R - INACTIVE CODE    72\n",
       "2  Change of Ownership   958\n",
       "3  Complaint            1871\n",
       "4  Enforcement           280\n",
       "5  FBI - INACTIVE CODE    58\n",
       "6  FOLLOW-UP              45\n",
       "7  FU - INACTIVE CODE     24\n",
       "8  HACCP - INACTIVE      101\n",
       "9  OB - INACTIVE CODE     10\n",
       "10 Opening              1301\n",
       "11 Other                 892\n",
       "12 Plan Review           135\n",
       "13 Regular             38278\n",
       "14 Reinspection          981"
      ]
     },
     "metadata": {},
     "output_type": "display_data"
    }
   ],
   "source": [
    "df %>%\n",
    "filter(inspection_date >=\"03/07/2017\", inspection_date <= \"11/07/2018\") %>%\n",
    "head()\n",
    "\n",
    "df%>%\n",
    "count(inspection_type)"
   ]
  },
  {
   "cell_type": "markdown",
   "id": "6e8c1e1d",
   "metadata": {},
   "source": [
    "There are fourteen inspection_types and the most used is the regular"
   ]
  },
  {
   "cell_type": "code",
   "execution_count": 13,
   "id": "472546b5",
   "metadata": {},
   "outputs": [
    {
     "data": {
      "text/html": [
       "<dl class=dl-horizontal>\n",
       "\t<dt>business_id</dt>\n",
       "\t\t<dd>0</dd>\n",
       "\t<dt>business_name</dt>\n",
       "\t\t<dd>0</dd>\n",
       "\t<dt>business_address</dt>\n",
       "\t\t<dd>0</dd>\n",
       "\t<dt>business_city</dt>\n",
       "\t\t<dd>0</dd>\n",
       "\t<dt>business_state</dt>\n",
       "\t\t<dd>0</dd>\n",
       "\t<dt>business_postal_code</dt>\n",
       "\t\t<dd>0</dd>\n",
       "\t<dt>business_phone_number</dt>\n",
       "\t\t<dd>13227</dd>\n",
       "\t<dt>inspection_date</dt>\n",
       "\t\t<dd>0</dd>\n",
       "\t<dt>inspection_score</dt>\n",
       "\t\t<dd>17828</dd>\n",
       "\t<dt>inspection_description</dt>\n",
       "\t\t<dd>0</dd>\n",
       "\t<dt>inspection_type</dt>\n",
       "\t\t<dd>0</dd>\n",
       "\t<dt>violation_description</dt>\n",
       "\t\t<dd>0</dd>\n",
       "\t<dt>violation_code</dt>\n",
       "\t\t<dd>0</dd>\n",
       "\t<dt>business_location</dt>\n",
       "\t\t<dd>0</dd>\n",
       "</dl>\n"
      ],
      "text/latex": [
       "\\begin{description*}\n",
       "\\item[business\\textbackslash{}\\_id] 0\n",
       "\\item[business\\textbackslash{}\\_name] 0\n",
       "\\item[business\\textbackslash{}\\_address] 0\n",
       "\\item[business\\textbackslash{}\\_city] 0\n",
       "\\item[business\\textbackslash{}\\_state] 0\n",
       "\\item[business\\textbackslash{}\\_postal\\textbackslash{}\\_code] 0\n",
       "\\item[business\\textbackslash{}\\_phone\\textbackslash{}\\_number] 13227\n",
       "\\item[inspection\\textbackslash{}\\_date] 0\n",
       "\\item[inspection\\textbackslash{}\\_score] 17828\n",
       "\\item[inspection\\textbackslash{}\\_description] 0\n",
       "\\item[inspection\\textbackslash{}\\_type] 0\n",
       "\\item[violation\\textbackslash{}\\_description] 0\n",
       "\\item[violation\\textbackslash{}\\_code] 0\n",
       "\\item[business\\textbackslash{}\\_location] 0\n",
       "\\end{description*}\n"
      ],
      "text/markdown": [
       "business_id\n",
       ":   0business_name\n",
       ":   0business_address\n",
       ":   0business_city\n",
       ":   0business_state\n",
       ":   0business_postal_code\n",
       ":   0business_phone_number\n",
       ":   13227inspection_date\n",
       ":   0inspection_score\n",
       ":   17828inspection_description\n",
       ":   0inspection_type\n",
       ":   0violation_description\n",
       ":   0violation_code\n",
       ":   0business_location\n",
       ":   0\n",
       "\n"
      ],
      "text/plain": [
       "           business_id          business_name       business_address \n",
       "                     0                      0                      0 \n",
       "         business_city         business_state   business_postal_code \n",
       "                     0                      0                      0 \n",
       " business_phone_number        inspection_date       inspection_score \n",
       "                 13227                      0                  17828 \n",
       "inspection_description        inspection_type  violation_description \n",
       "                     0                      0                      0 \n",
       "        violation_code      business_location \n",
       "                     0                      0 "
      ]
     },
     "metadata": {},
     "output_type": "display_data"
    }
   ],
   "source": [
    "# Searching for columns with missing data\n",
    "df %>% \n",
    "is.na()%>% \n",
    "apply(MARGIN=2, FUN=sum)"
   ]
  },
  {
   "cell_type": "markdown",
   "id": "d8ac48c5",
   "metadata": {},
   "source": [
    "Business phone number has 13227 missing datas while inspection score has 17828 missing data\n",
    "\n",
    "using heatmap to view the correlation between this missing datas"
   ]
  },
  {
   "cell_type": "code",
   "execution_count": 14,
   "id": "ed3c9d46",
   "metadata": {},
   "outputs": [
    {
     "data": {
      "text/html": [
       "31055"
      ],
      "text/latex": [
       "31055"
      ],
      "text/markdown": [
       "31055"
      ],
      "text/plain": [
       "[1] 31055"
      ]
     },
     "metadata": {},
     "output_type": "display_data"
    }
   ],
   "source": [
    "# How many missing datas are there?\n",
    "df %>%\n",
    "is.na()%>%\n",
    "sum() "
   ]
  },
  {
   "cell_type": "code",
   "execution_count": 16,
   "id": "ddcebb73",
   "metadata": {},
   "outputs": [
    {
     "ename": "ERROR",
     "evalue": "Error in library(heatmaply): there is no package called ‘heatmaply’\n",
     "output_type": "error",
     "traceback": [
      "Error in library(heatmaply): there is no package called ‘heatmaply’\nTraceback:\n",
      "1. library(heatmaply)"
     ]
    }
   ],
   "source": [
    "# lets explore some correlation by loading corr library\n",
    "library(heatmaply)"
   ]
  },
  {
   "cell_type": "code",
   "execution_count": null,
   "id": "1ce75127",
   "metadata": {},
   "outputs": [],
   "source": [
    "heatmaply_na(\n",
    "  airquality[1:30, ],\n",
    "  showticklabels = c(TRUE, FALSE),\n",
    "  k_col = 3,\n",
    "  k_row = 3\n",
    ")\n"
   ]
  },
  {
   "cell_type": "code",
   "execution_count": 21,
   "id": "63fa0cb8",
   "metadata": {},
   "outputs": [
    {
     "data": {
      "text/html": [
       "<dl class=dl-horizontal>\n",
       "\t<dt>business_id</dt>\n",
       "\t\t<dd>0</dd>\n",
       "\t<dt>business_name</dt>\n",
       "\t\t<dd>0</dd>\n",
       "\t<dt>business_address</dt>\n",
       "\t\t<dd>0</dd>\n",
       "\t<dt>business_city</dt>\n",
       "\t\t<dd>0</dd>\n",
       "\t<dt>business_state</dt>\n",
       "\t\t<dd>0</dd>\n",
       "\t<dt>business_postal_code</dt>\n",
       "\t\t<dd>0</dd>\n",
       "\t<dt>business_phone_number</dt>\n",
       "\t\t<dd>0</dd>\n",
       "\t<dt>inspection_date</dt>\n",
       "\t\t<dd>0</dd>\n",
       "\t<dt>inspection_score</dt>\n",
       "\t\t<dd>0</dd>\n",
       "\t<dt>inspection_description</dt>\n",
       "\t\t<dd>0</dd>\n",
       "\t<dt>inspection_type</dt>\n",
       "\t\t<dd>0</dd>\n",
       "\t<dt>violation_description</dt>\n",
       "\t\t<dd>0</dd>\n",
       "\t<dt>violation_code</dt>\n",
       "\t\t<dd>0</dd>\n",
       "\t<dt>business_location</dt>\n",
       "\t\t<dd>0</dd>\n",
       "</dl>\n"
      ],
      "text/latex": [
       "\\begin{description*}\n",
       "\\item[business\\textbackslash{}\\_id] 0\n",
       "\\item[business\\textbackslash{}\\_name] 0\n",
       "\\item[business\\textbackslash{}\\_address] 0\n",
       "\\item[business\\textbackslash{}\\_city] 0\n",
       "\\item[business\\textbackslash{}\\_state] 0\n",
       "\\item[business\\textbackslash{}\\_postal\\textbackslash{}\\_code] 0\n",
       "\\item[business\\textbackslash{}\\_phone\\textbackslash{}\\_number] 0\n",
       "\\item[inspection\\textbackslash{}\\_date] 0\n",
       "\\item[inspection\\textbackslash{}\\_score] 0\n",
       "\\item[inspection\\textbackslash{}\\_description] 0\n",
       "\\item[inspection\\textbackslash{}\\_type] 0\n",
       "\\item[violation\\textbackslash{}\\_description] 0\n",
       "\\item[violation\\textbackslash{}\\_code] 0\n",
       "\\item[business\\textbackslash{}\\_location] 0\n",
       "\\end{description*}\n"
      ],
      "text/markdown": [
       "business_id\n",
       ":   0business_name\n",
       ":   0business_address\n",
       ":   0business_city\n",
       ":   0business_state\n",
       ":   0business_postal_code\n",
       ":   0business_phone_number\n",
       ":   0inspection_date\n",
       ":   0inspection_score\n",
       ":   0inspection_description\n",
       ":   0inspection_type\n",
       ":   0violation_description\n",
       ":   0violation_code\n",
       ":   0business_location\n",
       ":   0\n",
       "\n"
      ],
      "text/plain": [
       "           business_id          business_name       business_address \n",
       "                     0                      0                      0 \n",
       "         business_city         business_state   business_postal_code \n",
       "                     0                      0                      0 \n",
       " business_phone_number        inspection_date       inspection_score \n",
       "                     0                      0                      0 \n",
       "inspection_description        inspection_type  violation_description \n",
       "                     0                      0                      0 \n",
       "        violation_code      business_location \n",
       "                     0                      0 "
      ]
     },
     "metadata": {},
     "output_type": "display_data"
    }
   ],
   "source": [
    "#filling missing values for inspection_score and business_phone_number\n",
    "df <- df %>% fill(inspection_score, .direction=\"down\")\n",
    "df <- df %>% fill(business_phone_number, .direction=\"down\")\n",
    "\n",
    "# How many missing datas are there?\n",
    "df %>% \n",
    "is.na()%>% \n",
    "apply(MARGIN=2, FUN=sum)"
   ]
  },
  {
   "cell_type": "code",
   "execution_count": 23,
   "id": "23317c0e",
   "metadata": {},
   "outputs": [
    {
     "data": {
      "text/html": [
       "0"
      ],
      "text/latex": [
       "0"
      ],
      "text/markdown": [
       "0"
      ],
      "text/plain": [
       "[1] 0"
      ]
     },
     "metadata": {},
     "output_type": "display_data"
    }
   ],
   "source": [
    "df %>% \n",
    "is.na()%>%\n",
    "sum() "
   ]
  },
  {
   "cell_type": "code",
   "execution_count": 112,
   "id": "b05592b5",
   "metadata": {},
   "outputs": [
    {
     "data": {
      "text/html": [
       "<table>\n",
       "<thead><tr><th scope=col>business_id</th><th scope=col>business_city</th><th scope=col>business_state</th><th scope=col>inspection_score</th><th scope=col>violation_description</th><th scope=col>inspection_type</th></tr></thead>\n",
       "<tbody>\n",
       "\t<tr><td>FA0000004 (https://anchorageonline.envisionconnect.com/#/pa1/detail/FA0000004/PR0000004)</td><td>EAGLE RIVER                                                                             </td><td>AK                                                                                      </td><td>100                                                                                     </td><td>DEMONSTRATION OF KNOWLEDGE                                                              </td><td>Regular                                                                                 </td></tr>\n",
       "\t<tr><td>FA0000004 (https://anchorageonline.envisionconnect.com/#/pa1/detail/FA0000004/PR0000004)</td><td>EAGLE RIVER                                                                             </td><td>AK                                                                                      </td><td> 97                                                                                     </td><td>SINGLE-SERVICE ITEMS PROPERLY STORED, USED                                              </td><td>Regular                                                                                 </td></tr>\n",
       "\t<tr><td>FA0000004 (https://anchorageonline.envisionconnect.com/#/pa1/detail/FA0000004/PR0000004)</td><td>EAGLE RIVER                                                                             </td><td>AK                                                                                      </td><td> 99                                                                                     </td><td>24  STORAGE, HANDLING OF CLEAN EQUIPMENT/UTENSILS                                       </td><td>Regular                                                                                 </td></tr>\n",
       "\t<tr><td>FA0000004 (https://anchorageonline.envisionconnect.com/#/pa1/detail/FA0000004/PR0000004)</td><td>EAGLE RIVER                                                                             </td><td>AK                                                                                      </td><td> 95                                                                                     </td><td>                                                                                        </td><td>Complaint                                                                               </td></tr>\n",
       "\t<tr><td>FA0000004 (https://anchorageonline.envisionconnect.com/#/pa1/detail/FA0000004/PR0000004)</td><td>EAGLE RIVER                                                                             </td><td>AK                                                                                      </td><td>100                                                                                     </td><td>TOXIC SUBSTANCES PROPERLY IDENTIFIED, STORED, USED                                      </td><td>Regular                                                                                 </td></tr>\n",
       "\t<tr><td>FA0000004 (https://anchorageonline.envisionconnect.com/#/pa1/detail/FA0000004/PR0000004)</td><td>EAGLE RIVER                                                                             </td><td>AK                                                                                      </td><td> 97                                                                                     </td><td>PROPER DATE MARKING AND DISPOSITION                                                     </td><td>Regular                                                                                 </td></tr>\n",
       "</tbody>\n",
       "</table>\n"
      ],
      "text/latex": [
       "\\begin{tabular}{r|llllll}\n",
       " business\\_id & business\\_city & business\\_state & inspection\\_score & violation\\_description & inspection\\_type\\\\\n",
       "\\hline\n",
       "\t FA0000004 (https://anchorageonline.envisionconnect.com/\\#/pa1/detail/FA0000004/PR0000004) & EAGLE RIVER                                                                                & AK                                                                                         & 100                                                                                        & DEMONSTRATION OF KNOWLEDGE                                                                 & Regular                                                                                   \\\\\n",
       "\t FA0000004 (https://anchorageonline.envisionconnect.com/\\#/pa1/detail/FA0000004/PR0000004) & EAGLE RIVER                                                                                & AK                                                                                         &  97                                                                                        & SINGLE-SERVICE ITEMS PROPERLY STORED, USED                                                 & Regular                                                                                   \\\\\n",
       "\t FA0000004 (https://anchorageonline.envisionconnect.com/\\#/pa1/detail/FA0000004/PR0000004) & EAGLE RIVER                                                                                & AK                                                                                         &  99                                                                                        & 24  STORAGE, HANDLING OF CLEAN EQUIPMENT/UTENSILS                                          & Regular                                                                                   \\\\\n",
       "\t FA0000004 (https://anchorageonline.envisionconnect.com/\\#/pa1/detail/FA0000004/PR0000004) & EAGLE RIVER                                                                                & AK                                                                                         &  95                                                                                        &                                                                                            & Complaint                                                                                 \\\\\n",
       "\t FA0000004 (https://anchorageonline.envisionconnect.com/\\#/pa1/detail/FA0000004/PR0000004) & EAGLE RIVER                                                                                & AK                                                                                         & 100                                                                                        & TOXIC SUBSTANCES PROPERLY IDENTIFIED, STORED, USED                                         & Regular                                                                                   \\\\\n",
       "\t FA0000004 (https://anchorageonline.envisionconnect.com/\\#/pa1/detail/FA0000004/PR0000004) & EAGLE RIVER                                                                                & AK                                                                                         &  97                                                                                        & PROPER DATE MARKING AND DISPOSITION                                                        & Regular                                                                                   \\\\\n",
       "\\end{tabular}\n"
      ],
      "text/markdown": [
       "\n",
       "| business_id | business_city | business_state | inspection_score | violation_description | inspection_type |\n",
       "|---|---|---|---|---|---|\n",
       "| FA0000004 (https://anchorageonline.envisionconnect.com/#/pa1/detail/FA0000004/PR0000004) | EAGLE RIVER                                                                              | AK                                                                                       | 100                                                                                      | DEMONSTRATION OF KNOWLEDGE                                                               | Regular                                                                                  |\n",
       "| FA0000004 (https://anchorageonline.envisionconnect.com/#/pa1/detail/FA0000004/PR0000004) | EAGLE RIVER                                                                              | AK                                                                                       |  97                                                                                      | SINGLE-SERVICE ITEMS PROPERLY STORED, USED                                               | Regular                                                                                  |\n",
       "| FA0000004 (https://anchorageonline.envisionconnect.com/#/pa1/detail/FA0000004/PR0000004) | EAGLE RIVER                                                                              | AK                                                                                       |  99                                                                                      | 24  STORAGE, HANDLING OF CLEAN EQUIPMENT/UTENSILS                                        | Regular                                                                                  |\n",
       "| FA0000004 (https://anchorageonline.envisionconnect.com/#/pa1/detail/FA0000004/PR0000004) | EAGLE RIVER                                                                              | AK                                                                                       |  95                                                                                      |                                                                                          | Complaint                                                                                |\n",
       "| FA0000004 (https://anchorageonline.envisionconnect.com/#/pa1/detail/FA0000004/PR0000004) | EAGLE RIVER                                                                              | AK                                                                                       | 100                                                                                      | TOXIC SUBSTANCES PROPERLY IDENTIFIED, STORED, USED                                       | Regular                                                                                  |\n",
       "| FA0000004 (https://anchorageonline.envisionconnect.com/#/pa1/detail/FA0000004/PR0000004) | EAGLE RIVER                                                                              | AK                                                                                       |  97                                                                                      | PROPER DATE MARKING AND DISPOSITION                                                      | Regular                                                                                  |\n",
       "\n"
      ],
      "text/plain": [
       "  business_id                                                                             \n",
       "1 FA0000004 (https://anchorageonline.envisionconnect.com/#/pa1/detail/FA0000004/PR0000004)\n",
       "2 FA0000004 (https://anchorageonline.envisionconnect.com/#/pa1/detail/FA0000004/PR0000004)\n",
       "3 FA0000004 (https://anchorageonline.envisionconnect.com/#/pa1/detail/FA0000004/PR0000004)\n",
       "4 FA0000004 (https://anchorageonline.envisionconnect.com/#/pa1/detail/FA0000004/PR0000004)\n",
       "5 FA0000004 (https://anchorageonline.envisionconnect.com/#/pa1/detail/FA0000004/PR0000004)\n",
       "6 FA0000004 (https://anchorageonline.envisionconnect.com/#/pa1/detail/FA0000004/PR0000004)\n",
       "  business_city business_state inspection_score\n",
       "1 EAGLE RIVER   AK             100             \n",
       "2 EAGLE RIVER   AK              97             \n",
       "3 EAGLE RIVER   AK              99             \n",
       "4 EAGLE RIVER   AK              95             \n",
       "5 EAGLE RIVER   AK             100             \n",
       "6 EAGLE RIVER   AK              97             \n",
       "  violation_description                              inspection_type\n",
       "1 DEMONSTRATION OF KNOWLEDGE                         Regular        \n",
       "2 SINGLE-SERVICE ITEMS PROPERLY STORED, USED         Regular        \n",
       "3 24  STORAGE, HANDLING OF CLEAN EQUIPMENT/UTENSILS  Regular        \n",
       "4                                                    Complaint      \n",
       "5 TOXIC SUBSTANCES PROPERLY IDENTIFIED, STORED, USED Regular        \n",
       "6 PROPER DATE MARKING AND DISPOSITION                Regular        "
      ]
     },
     "metadata": {},
     "output_type": "display_data"
    }
   ],
   "source": [
    "# Selecting columns i will be working with for my analysis\n",
    "working_df <- df %>%\n",
    "select(business_id, business_city, business_state, inspection_score, violation_description, inspection_type)%>%\n",
    "arrange(business_id)\n",
    "\n",
    "working_df %>% head()"
   ]
  },
  {
   "cell_type": "markdown",
   "id": "4a74d4ae",
   "metadata": {},
   "source": [
    "## Visualisation"
   ]
  },
  {
   "cell_type": "code",
   "execution_count": 28,
   "id": "f238a4f4",
   "metadata": {},
   "outputs": [
    {
     "data": {
      "image/png": "[encoded data removed]",
      "text/plain": [
       "plot without title"
      ]
     },
     "metadata": {},
     "output_type": "display_data"
    }
   ],
   "source": [
    "df %>%\n",
    "ggplot(aes(business_state, inspection_type))+\n",
    "geom_bar(stat=\"identity\", position=\"dodge\")"
   ]
  },
  {
   "cell_type": "code",
   "execution_count": 38,
   "id": "db4a8505",
   "metadata": {},
   "outputs": [
    {
     "data": {
      "image/png": "[encoded data removed]",
      "text/plain": [
       "plot without title"
      ]
     },
     "metadata": {},
     "output_type": "display_data"
    }
   ],
   "source": [
    "df %>%\n",
    "ggplot(aes(business_state, inspection_score))+\n",
    "geom_point()"
   ]
  },
  {
   "cell_type": "code",
   "execution_count": 39,
   "id": "ac3e3d1f",
   "metadata": {},
   "outputs": [
    {
     "ename": "ERROR",
     "evalue": "Error in parse(text = x, srcfile = src): <text>:2:0: unexpected end of input\n1: df %>%\n   ^\n",
     "output_type": "error",
     "traceback": [
      "Error in parse(text = x, srcfile = src): <text>:2:0: unexpected end of input\n1: df %>%\n   ^\nTraceback:\n"
     ]
    }
   ],
   "source": [
    "df %>%\n",
    "filter(inspection_score )%>%\n",
    "count(inspection_score, score = ifelse)"
   ]
  },
  {
   "cell_type": "code",
   "execution_count": null,
   "id": "6ea14431",
   "metadata": {},
   "outputs": [],
   "source": []
  }
 ],
 "metadata": {
  "kernelspec": {
   "display_name": "R",
   "language": "R",
   "name": "ir"
  },
  "language_info": {
   "codemirror_mode": "r",
   "file_extension": ".r",
   "mimetype": "text/x-r-source",
   "name": "R",
   "pygments_lexer": "r",
   "version": "3.6.1"
  }
 },
 "nbformat": 4,
 "nbformat_minor": 5
}
